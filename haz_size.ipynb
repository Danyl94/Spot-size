{
 "cells": [
  {
   "cell_type": "markdown",
   "id": "b65b0518",
   "metadata": {},
   "source": [
    "# ¿Cómo calcular el tamaño del spot enfocado con un objetivo?\n",
    "\n",
    "\n"
   ]
  },
  {
   "cell_type": "code",
   "execution_count": 3,
   "id": "617c6629",
   "metadata": {},
   "outputs": [],
   "source": [
    "import numpy as np\n",
    "import matplotlib\n",
    "import pandas as pd\n",
    "from matplotlib import pyplot as plt"
   ]
  },
  {
   "cell_type": "markdown",
   "id": "753726f6",
   "metadata": {},
   "source": [
    "El rayo del láser tiene un diámetro nominal de $D mm$ ( intensidad $\\frac{1 }{ e^2} $) y la lente del objetivo tiene una apertura clara de $AC mm$. El perfil del haz es aproximadamente, pero no exactamente gaussiano (M 2 <2). https://www.rp-photonics.com/m2_factor.html\n",
    "\n",
    "\n",
    "https://en.wikipedia.org/wiki/Laser_beam_quality\n",
    "\n",
    "\n",
    "\n",
    "\n"
   ]
  },
  {
   "cell_type": "code",
   "execution_count": 2,
   "id": "4806f86d",
   "metadata": {},
   "outputs": [
    {
     "name": "stdout",
     "output_type": "stream",
     "text": [
      " la divergencia es de aproximadamente 0.5156620156177409 mrad es decir el haz se extiende 1.0313240312354819 mm en una distancia de 1 metro.\n"
     ]
    }
   ],
   "source": [
    "#. El ángulo de divergencia de difracción limitada de un haz de Gauss con un diámetro D y λ la longitud de onda es Θ = 4 ⋅ λ / Π ⋅\n",
    "\n",
    "lamda=405\n",
    "D=1*1000#diametro de spor\n",
    "\n",
    "theta=4*lamda/(np.pi*D)\n",
    "print(' la divergencia es de aproximadamente', theta, 'mrad es decir el haz se extiende', theta*2 ,'mm en una distancia de 1 metro.')"
   ]
  },
  {
   "cell_type": "code",
   "execution_count": 2,
   "id": "2c5a37d1",
   "metadata": {},
   "outputs": [
    {
     "name": "stdout",
     "output_type": "stream",
     "text": [
      "1.0\n"
     ]
    }
   ],
   "source": [
    "#Para un haz gaussiano de radio c , la fracción transmitida a través de una apertura circular de radio a es $r= 1 - exp \\frac{-2 a^2}{ c^2 }$ para una apertura de la mitad del diámetro del haz$\\frac{1 }{ e^2} $.\n",
    "AC=7.5/2\n",
    "D=1\n",
    "c=D/2\n",
    "r= 1 - (np.exp(-2* AC**2/ c**2 ))\n",
    "print(r)"
   ]
  },
  {
   "cell_type": "markdown",
   "id": "ef1d7ada",
   "metadata": {},
   "source": [
    "Podemos tomar el perfil del haz dentro de la pupila de entrada de la lente como gaussiano truncado con una intensidad que cae desde un pico en el centro hasta el $60\\%$ de ese valor en el borde de la pupila. El perfil de intensidad en el foco se puede calcular numéricamente, pero existe cierta incertidumbre dadas las posibles desviaciones de un perfil gaussiano verdadero y una posible distorsión de fase. Podemos estimar el rango probable utilizando soluciones bien conocidas para una lente uniformemente iluminada y para la propagación del haz gaussiano ideal (ilimitado).\n",
    "\n",
    "https://en.wikipedia.org/wiki/Gaussian_beam\n",
    "\n",
    "Para una lente sin aberraciones (con difracción limitada) y uniformemente iluminada, la distribución del campo en el plano focal se describe en el disco de Airy \n",
    "\n",
    "\n",
    "\n",
    "https://en.wikipedia.org/wiki/Airy_disk\n",
    "El radio del primer mínimo en el patrón de difracción es 0,61 λ / NA , donde λ es la longitud de onda y NA es la apertura numérica de la lente ( NA = 1 / (2 número F))"
   ]
  },
  {
   "cell_type": "code",
   "execution_count": 19,
   "id": "3a5de733",
   "metadata": {},
   "outputs": [],
   "source": []
  },
  {
   "cell_type": "code",
   "execution_count": 9,
   "id": "43fd435e",
   "metadata": {},
   "outputs": [
    {
     "name": "stdout",
     "output_type": "stream",
     "text": [
      "405\n",
      "Radio1 es: 0.28350000000000003  μm, aproximacion a un ajuste gausiano de radio  0,42 λ / NA\n",
      "Radio2 es: 214.85917317405872  μm\n",
      "214.85917317405872  μm, para un haz gaussiano ideal que puede elevar hasta  a 2 μm si el factor de calidad $M^2$ es tan alto como 2\n",
      "CONCLUSION: Una estimación razonable para el radio 1/𝑒^2 del punto enfocado está entre 0.28350000000000003 μm y 2 μm dependiendo de la calidad del haz del láser.\n"
     ]
    }
   ],
   "source": [
    "#El radio correspondiente $\\frac{1 }{ e^2} $ es $\\aprox $0.42 \\lambda / NA ≈ 1.3 μm $ \n",
    "lamda1=405*10**(-3)\n",
    "NA=0.6\n",
    "print(lamda)\n",
    "\n",
    "r1=0.42*lamda1/NA\n",
    "\n",
    "#Compare esto con 1 / e 2 de radio λ / (π NA ) /1000\n",
    "\n",
    "r2=lamda/(np.pi*NA)\n",
    "print(\"Radio1 es:\",r1, \" μm, aproximacion a un ajuste gausiano de radio  0,42 λ / NA\")\n",
    "print(\"Radio2 es:\",r2, \" μm\")\n",
    "\n",
    "print (r2,' μm, para un haz gaussiano ideal que puede elevar hasta  a 2 μm si el factor de calidad $M^2$ es tan alto como 2')\n",
    "\n",
    "print( 'CONCLUSION: Una estimación razonable para el radio 1/𝑒^2 del punto enfocado está entre', r1, 'μm y 2 μm dependiendo de la calidad del haz del láser.')"
   ]
  },
  {
   "cell_type": "markdown",
   "id": "68ca155b",
   "metadata": {},
   "source": [
    "# Cómo entra el haz al objetivo?\n",
    "\n",
    "\n"
   ]
  },
  {
   "cell_type": "markdown",
   "id": "6e8ef9f8",
   "metadata": {},
   "source": [
    "Lo primero es que si entra un spot de tamaño que cubre todo el objetivo cumple la ley de abbe, es decir, que el radio de spot es  $r=\\frac{\\lambda}{NA}$la longitud de onda sobre la apertura numerica\n",
    "del objetivo"
   ]
  },
  {
   "cell_type": "code",
   "execution_count": 85,
   "id": "51e2319f",
   "metadata": {},
   "outputs": [
    {
     "name": "stdout",
     "output_type": "stream",
     "text": [
      "El tamaño del spot es: 1.2 μm  este tamaño es el tamaño MÁS PEQUEÑO usando el objetivo de  0.8\n",
      " Si se desea un spot mayor sobre la longitud , establesca de que tamño es la entrada D\n",
      " El nuevo taño del spot para el dimaetro nuevo es: 10.666666666666666\n"
     ]
    }
   ],
   "source": []
  },
  {
   "cell_type": "code",
   "execution_count": 8,
   "id": "497ab4e8",
   "metadata": {},
   "outputs": [
    {
     "name": "stdout",
     "output_type": "stream",
     "text": [
      "El tamaño del spot es: 0.1370769230769231 μm  este tamaño es el tamaño MÁS PEQUEÑO usando el objetivo de  0.65 \n",
      " \n",
      " Si se desea un spot mayor sobre la longitud , establesca de que tamaño es la entrada D en mm\n",
      "f 4538.461538461538 μm\n",
      " El nuevo tamaño del spot para el dimaetro nuevo es: 2.3403122247266706 μm\n",
      " diametro del spot focal 0.3966630889367238 μm\n",
      " la profundidad focal es  21.242834039826697 μm\n"
     ]
    }
   ],
   "source": [
    "NA=0.65\n",
    "lamda=405*10**(-3)\n",
    "r=0.22*lamda/(NA)\n",
    "\n",
    "print('El tamaño del spot es:', r, 'μm  este tamaño es el tamaño MÁS PEQUEÑO usando el objetivo de ', NA ,'\\n ')\n",
    "print( ' Si se desea un spot mayor sobre la longitud , establesca de que tamaño es la entrada D en mm')\n",
    "\n",
    "AC=5.9*10**(3) # tamaño del spot de entrada\n",
    "D=1*10**(3)  \n",
    "\n",
    "f=(AC)/(NA*2)\n",
    "print('f',  f, 'μm')\n",
    "d=4*f*lamda/(np.pi*D)\n",
    "print(' El nuevo tamaño del spot para el dimaetro nuevo es:', d,'μm')\n",
    "PF= 8*f*f*lamda/(np.pi*D*D)\n",
    "d=2*lamda/(np.pi*NA)\n",
    "print (' diametro del spot focal', d,'μm')\n",
    "print (' la profundidad focal es ', PF,'μm')\n",
    "\n",
    "\n",
    "\n"
   ]
  },
  {
   "cell_type": "code",
   "execution_count": 4,
   "id": "96e1f7aa",
   "metadata": {},
   "outputs": [
    {
     "name": "stdout",
     "output_type": "stream",
     "text": [
      "1.1701561123633353 diametro\n"
     ]
    },
    {
     "data": {
      "image/png": "[encoded data removed]",
      "text/plain": [
       "<Figure size 432x288 with 1 Axes>"
      ]
     },
     "metadata": {
      "needs_background": "light"
     },
     "output_type": "display_data"
    },
    {
     "data": {
      "image/png": "[encoded data removed]",
      "text/plain": [
       "<Figure size 936x576 with 1 Axes>"
      ]
     },
     "metadata": {},
     "output_type": "display_data"
    }
   ],
   "source": [
    "NA=0.65\n",
    "lamda=405*10**(-3)\n",
    "AC=5.9*10**(3) # tamaño del spot de entrada\n",
    "D=2*10**(3) \n",
    "r=0.22*lamda/(NA)\n",
    "f=(AC)/(NA*2)\n",
    "d=4*f*lamda/(np.pi*D)\n",
    "print(d,'diametro')\n",
    "\n",
    "def Diametro (fo,lam, Di): \n",
    "    d = 4*fo*lam/(np.pi*Di*1000);\n",
    "    return d\n",
    "\n",
    "\n",
    "\n",
    "\n",
    "x=np.linspace(1,7,1000)\n",
    "\n",
    "y=np.array([Diametro(f,lamda,t) for t in x])\n",
    "#plt.ylim(-0.2,1.2)\n",
    "\n",
    "plt.plot(x,y,'green')\n",
    "plt.tick_params(labelsize=14,length=0)\n",
    "plt.title('Radio de entrada y salida en un objetivo  ', weight='bold',size=18, color='black')\n",
    "plt.ylabel('Spot Enfocado 10^3(μm)',weight='bold',size=15, color='gray')\n",
    "plt.xlabel('Spot Incidente(μm)', weight='bold',size=15, color='gray')\n",
    "#plt.grid()\n",
    "plt.show()\n",
    "csfont = {'fontname':'Arial'}\n",
    "hfont = {'fontname':'Helvetica'}\n",
    "with plt.style.context('seaborn-darkgrid'):\n",
    "        plt.figure(figsize=(13,8))\n",
    "        #plt.xlim(0,500)\n",
    "        plt.plot(x,y,'green')\n",
    "        plt.ylabel('Spot Enfocado 10^3(μm)',size=16,**csfont)\n",
    "        plt.xlabel('Spot Incidente(μm)',size=16, **csfont)\n",
    "        #plt.legend(loc='upper right', fontsize=15, frameon=1 )\n",
    "        plt.title('Radio de entrada y salida en un objetivo ', size=25, **csfont )\n",
    "        \n",
    "        plt.xticks(fontsize=14)\n",
    "        plt.yticks(fontsize=14)\n",
    "plt.show()"
   ]
  },
  {
   "cell_type": "markdown",
   "id": "5610fcde",
   "metadata": {},
   "source": [
    "# Cuál es el tamaño del spot del laser "
   ]
  },
  {
   "cell_type": "markdown",
   "id": "109aa3d5",
   "metadata": {},
   "source": [
    "Si es un spot gaussiano medido con ccd es de tamaño \n",
    "Los rayos láser suelen estar muy bien colimados. La difracción hace que las ondas de luz se propaguen transversalmente a medida que se propagan y, por lo tanto, es imposible tener un haz perfectamente colimado. El ángulo de divergencia de difracción limitada de un haz de Gauss con un diámetro D y λ la longitud de onda es $Θ = 4 ⋅ λ / Π ⋅ D $. "
   ]
  },
  {
   "cell_type": "code",
   "execution_count": 129,
   "id": "b58285b6",
   "metadata": {},
   "outputs": [
    {
     "name": "stdout",
     "output_type": "stream",
     "text": [
      "0.5156620156177409 mrad. es decir, el haz se extiende 1,3 mm en una distancia de 1 metro.\n"
     ]
    }
   ],
   "source": [
    "lamda=405*10**(-3)\n",
    "D=1*10**3\n",
    "theta=4*lamda/(np.pi*D)\n",
    "print(theta*1000, 'mrad. es decir, el haz se extiende 1,3 mm en una distancia de 1 metro.')\n"
   ]
  },
  {
   "cell_type": "markdown",
   "id": "34157fb1",
   "metadata": {},
   "source": [
    "# cual es la divergencia producida por el galvo "
   ]
  },
  {
   "cell_type": "markdown",
   "id": "7294ff64",
   "metadata": {},
   "source": [
    "La desviación del galvo depende de la amplitu de la onda que se suminstre al gnerador de ondas \n"
   ]
  },
  {
   "cell_type": "code",
   "execution_count": 287,
   "id": "c3346ce6",
   "metadata": {},
   "outputs": [
    {
     "name": "stdout",
     "output_type": "stream",
     "text": [
      "0.225\n",
      "El angulo es: 1.4320961841646465 a una distancia 9  del galvo \n",
      "\n"
     ]
    },
    {
     "data": {
      "image/png": "[encoded data removed]",
      "text/plain": [
       "<Figure size 432x288 with 1 Axes>"
      ]
     },
     "metadata": {
      "needs_background": "light"
     },
     "output_type": "display_data"
    },
    {
     "name": "stdout",
     "output_type": "stream",
     "text": [
      "El radio del ancho del spot q barre el galvo a una distancia 50 es 0.225 cm\n"
     ]
    }
   ],
   "source": [
    "d1=9\n",
    "ancho=0.45/2\n",
    "print(ancho)\n",
    "\n",
    "\n",
    "theta_galvo= np.arctan(ancho/d1)*180/np.pi\n",
    "print('El angulo es:', theta_galvo, 'a una distancia', d1, ' del galvo \\n' )\n",
    "\n",
    "d2=50\n",
    "\n",
    "def conoG (theta,D2): \n",
    "    cono = np.tan(theta*(np.pi/180))*D2;\n",
    "    return cono\n",
    "\n",
    "x=np.linspace(1,d2,100)\n",
    "\n",
    "y=np.array([conoG(theta_galvo,t) for t in x])\n",
    "#plt.ylim(-0.2,1.2)\n",
    "\n",
    "plt.plot(x,y,'black')\n",
    "plt.tick_params(labelsize=14,length=0)\n",
    "plt.title('Crecimiento del Spot', weight='bold',size=18, color='white')\n",
    "plt.ylabel(' Grados(°)',weight='bold',size=15, color='white')\n",
    "plt.xlabel('Longitud (cm)', weight='bold',size=15, color='white')\n",
    "#plt.grid()\n",
    "plt.show()\n",
    "#cono=np.tan(theta_galvo*np.pi/180)/d2\n",
    "print('El radio del ancho del spot q barre el galvo a una distancia', d2, 'es', conoG(theta_galvo, 9), 'cm')\n"
   ]
  },
  {
   "cell_type": "code",
   "execution_count": 3,
   "id": "ec96b588",
   "metadata": {},
   "outputs": [
    {
     "name": "stdout",
     "output_type": "stream",
     "text": [
      "El angulo es: 0.9548412538721887 a una distancia 30  del galvo \n",
      "\n",
      "El radio del ancho del spot q barre el galvo a una distancia 82 es 1.3666666666666667 cm\n"
     ]
    }
   ],
   "source": [
    "#80MV\n",
    "\n",
    "d1=30\n",
    "ancho=0.5\n",
    "\n",
    "theta_galvo= np.arctan(ancho/d1)*(180/np.pi)\n",
    "print('El angulo es:', theta_galvo, 'a una distancia', d1, ' del galvo \\n' )\n",
    "\n",
    "d2=82\n",
    "conoG=np.tan(theta_galvo*np.pi/180)*d2\n",
    "print('El radio del ancho del spot q barre el galvo a una distancia', d2, 'es', conoG, 'cm')"
   ]
  },
  {
   "cell_type": "code",
   "execution_count": null,
   "id": "a8e54185",
   "metadata": {},
   "outputs": [],
   "source": [
    "#100MV\n",
    "\n",
    "d1=45\n",
    "ancho=0.8\n",
    "\n",
    "theta_galvo= np.arctan(ancho/d1)*(180/np.pi)\n",
    "print('El angulo es:', theta_galvo, 'a una distancia', d1, ' del galvo \\n' )\n",
    "\n",
    "d2=82\n",
    "conoG=np.tan(theta_galvo*np.pi/180)*d2\n",
    "print('El radio del ancho del spot q barre el galvo a una distancia', d2, 'es', conoG, 'cm')\n"
   ]
  },
  {
   "cell_type": "code",
   "execution_count": 14,
   "id": "b614f4b3",
   "metadata": {},
   "outputs": [
    {
     "name": "stdout",
     "output_type": "stream",
     "text": [
      "El angulo es: 0.31830661145136596 a una distancia 45  del galvo \n",
      "\n",
      "El radio del ancho del spot q barre el galvo a una distancia 82 es 0.45555555555555555 cm\n"
     ]
    }
   ],
   "source": [
    "#25mv\n",
    "\n",
    "d1=45\n",
    "ancho=0.25\n",
    "\n",
    "theta_galvo= np.arctan(ancho/d1)*(180/np.pi)\n",
    "print('El angulo es:', theta_galvo, 'a una distancia', d1, ' del galvo \\n' )\n",
    "\n",
    "d2=82\n",
    "conoG=np.tan(theta_galvo*np.pi/180)*d2\n",
    "print('El radio del ancho del spot q barre el galvo a una distancia', d2, 'es', conoG, 'cm')"
   ]
  },
  {
   "cell_type": "code",
   "execution_count": null,
   "id": "1f4a9f52",
   "metadata": {},
   "outputs": [],
   "source": []
  },
  {
   "cell_type": "markdown",
   "id": "53804b06",
   "metadata": {},
   "source": [
    "# telescopio Galileano "
   ]
  },
  {
   "cell_type": "code",
   "execution_count": 197,
   "id": "0c0b4477",
   "metadata": {},
   "outputs": [
    {
     "name": "stdout",
     "output_type": "stream",
     "text": [
      "la ditancia entre las lentes es: 10\n",
      "la amplitud de las imagenes es: 2.0\n",
      "Si queremos una amplificacion 2 se tiene que utilzar una lente de plano conveza de 20 cm\n"
     ]
    }
   ],
   "source": [
    "#la distancia fe coincide con el enfoque donde esta el galvo \n",
    "\n",
    "fe=-10\n",
    "fo=20\n",
    "d=fe+fo\n",
    "print('la ditancia entre las lentes es:', d)\n",
    "M=-fo/fe\n",
    "print('la amplitud de las imagenes es:',M)\n",
    "M1=2\n",
    "Fo=-M1*fe\n",
    "print('Si queremos una amplificacion',M1, 'se tiene que utilzar una lente de plano conveza de',Fo,'cm') "
   ]
  },
  {
   "cell_type": "markdown",
   "id": "53858a6c",
   "metadata": {},
   "source": [
    "# Microscopio kepleriano "
   ]
  }
 ],
 "metadata": {
  "kernelspec": {
   "display_name": "Python 3 (ipykernel)",
   "language": "python",
   "name": "python3"
  },
  "language_info": {
   "codemirror_mode": {
    "name": "ipython",
    "version": 3
   },
   "file_extension": ".py",
   "mimetype": "text/x-python",
   "name": "python",
   "nbconvert_exporter": "python",
   "pygments_lexer": "ipython3",
   "version": "3.9.7"
  }
 },
 "nbformat": 4,
 "nbformat_minor": 5
}
